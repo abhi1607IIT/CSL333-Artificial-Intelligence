{
 "cells": [
  {
   "cell_type": "code",
   "execution_count": 74,
   "metadata": {},
   "outputs": [
    {
     "name": "stdout",
     "output_type": "stream",
     "text": [
      "{'maxruns': 69, 'index': 9}\n",
      "{'maxstrRate': 950.0, 'index': 4, 'mom': -1}\n",
      "{'minstrRate': 2.5316455696202533, 'index': 10}\n",
      "{'runs': 19, 'balls': 2, 'playername': 'HXcyYhHA'}\n",
      "{'runs': 2, 'balls': 79, 'playername': 'CbvCUkmin'}\n"
     ]
    }
   ],
   "source": [
    "from random import randint\n",
    "import string\n",
    "from random import *\n",
    "min_char = 8\n",
    "max_char = 12\n",
    "allchar = string.ascii_letters\n",
    "dl =[]\n",
    "ml =[]\n",
    "for i in range (0,11):\n",
    "    hash1 = {\"runs\":randint(0,70),\"balls\":randint(0,80),\"playername\":\"\".join(choice(allchar) for x in range(randint(min_char, max_char)))}\n",
    "    hash2 = {\"runs\":randint(0,70),\"balls\":randint(0,80),\"playername\":\"\".join(choice(allchar) for x in range(randint(min_char, max_char)))}\n",
    "    dl.append(hash1)\n",
    "    ml.append(hash2)\n",
    "\n",
    "tt = ml+dl\n",
    "\n",
    "def MaxRuns (dl):\n",
    "    maxruns = 0\n",
    "    pos=-1\n",
    "    for i in range (0,len(dl)):\n",
    "        if dl[i][\"runs\"] > maxruns:\n",
    "            maxruns = dl[i][\"runs\"]\n",
    "            pos=i\n",
    "    return {\"maxruns\":maxruns,\"index\":pos}\n",
    "\n",
    "def MaxStrRates (dl):\n",
    "    maxstr = 0.0\n",
    "    pos=-1\n",
    "    mom=-1\n",
    "    for i in range (0,len(dl)):\n",
    "        if dl[i][\"balls\"]!=0 and (dl[i][\"runs\"]/dl[i][\"balls\"])*100 > maxstr:\n",
    "            maxstr = (dl[i][\"runs\"]/dl[i][\"balls\"])*100\n",
    "            pos=i\n",
    "            if dl[i][\"runs\"] > 50:\n",
    "                mom=i\n",
    "    return {\"maxstrRate\":maxstr,\"index\":pos,\"mom\":mom}\n",
    "\n",
    "def MinStrRates (dl):\n",
    "    minstr = 100000.00\n",
    "    pos=-1\n",
    "    for i in range (0,len(dl)):\n",
    "        if dl[i][\"balls\"]!=0 and (dl[i][\"runs\"]/dl[i][\"balls\"])*100 < minstr :\n",
    "            minstr = (dl[i][\"runs\"]/dl[i][\"balls\"])*100\n",
    "            pos=i\n",
    "        elif dl[i][\"balls\"] ==0:\n",
    "            minstr = 0\n",
    "    return {\"minstrRate\":minstr,\"index\":pos}\n",
    "\n",
    "print(MaxRuns(tt))\n",
    "maxstr = MaxStrRates(tt)\n",
    "minstr = MinStrRates(tt)\n",
    "print (maxstr)\n",
    "print (minstr)\n",
    "print(tt[maxstr[\"index\"]])\n",
    "print(tt[minstr[\"index\"]])\n"
   ]
  },
  {
   "cell_type": "code",
   "execution_count": 13,
   "metadata": {},
   "outputs": [
    {
     "name": "stdout",
     "output_type": "stream",
     "text": [
      "76\n"
     ]
    }
   ],
   "source": [
    "from random import randint\n",
    "print(randint(0, 100))"
   ]
  },
  {
   "cell_type": "code",
   "execution_count": 21,
   "metadata": {},
   "outputs": [
    {
     "name": "stdout",
     "output_type": "stream",
     "text": [
      "12\n",
      "[{'runs': 27, 'balls': 13}, {'runs': 41, 'balls': 17}, {'runs': 13, 'balls': 38}, {'runs': 52, 'balls': 23}, {'runs': 34, 'balls': 39}, {'runs': 34, 'balls': 39}, {'runs': 22, 'balls': 33}, {'runs': 64, 'balls': 40}, {'runs': 48, 'balls': 35}, {'runs': 70, 'balls': 8}, {'runs': 40, 'balls': 11}, {'runs': 69, 'balls': 19}]  \n",
      "[{'runs': 26, 'balls': 31}, {'runs': 13, 'balls': 1}, {'runs': 17, 'balls': 5}, {'runs': 34, 'balls': 36}, {'runs': 22, 'balls': 9}, {'runs': 28, 'balls': 30}, {'runs': 48, 'balls': 34}, {'runs': 30, 'balls': 20}, {'runs': 5, 'balls': 13}, {'runs': 52, 'balls': 0}, {'runs': 4, 'balls': 9}, {'runs': 52, 'balls': 18}, {'runs': 27, 'balls': 13}, {'runs': 41, 'balls': 17}, {'runs': 13, 'balls': 38}, {'runs': 52, 'balls': 23}, {'runs': 34, 'balls': 39}, {'runs': 34, 'balls': 39}, {'runs': 22, 'balls': 33}, {'runs': 64, 'balls': 40}, {'runs': 48, 'balls': 35}, {'runs': 70, 'balls': 8}, {'runs': 40, 'balls': 11}, {'runs': 69, 'balls': 19}]  \n"
     ]
    }
   ],
   "source": [
    "from random import randint\n",
    "ml = []\n",
    "dl = []\n",
    "\n",
    "for i in range (0,12):\n",
    "    hash = {\"runs\":randint(0,70),\"balls\":randint(0,40)}\n",
    "    hash2 = {\"runs\":randint(0,70),\"balls\":randint(0,40)}\n",
    "    dl.append(hash)\n",
    "    ml.append(hash2)\n",
    "print(len(dl))\n",
    "print(ml,' ')\n",
    "tt = dl+ml\n",
    "print(tt,' ')\n",
    "    "
   ]
  },
  {
   "cell_type": "code",
   "execution_count": 70,
   "metadata": {},
   "outputs": [
    {
     "name": "stdout",
     "output_type": "stream",
     "text": [
      "This is your password :  IpYpO-E@\n"
     ]
    }
   ],
   "source": [
    "import string\n",
    "from random import *\n",
    "min_char = 8\n",
    "max_char = 12\n",
    "allchar = string.ascii_letters + string.punctuation + string.digits\n",
    "password = \"\".join(choice(allchar) for x in range(randint(min_char, max_char)))\n",
    "print (\"This is your password : \",password)"
   ]
  },
  {
   "cell_type": "code",
   "execution_count": null,
   "metadata": {},
   "outputs": [],
   "source": []
  }
 ],
 "metadata": {
  "kernelspec": {
   "display_name": "Python 3",
   "language": "python",
   "name": "python3"
  },
  "language_info": {
   "codemirror_mode": {
    "name": "ipython",
    "version": 3
   },
   "file_extension": ".py",
   "mimetype": "text/x-python",
   "name": "python",
   "nbconvert_exporter": "python",
   "pygments_lexer": "ipython3",
   "version": "3.6.5"
  }
 },
 "nbformat": 4,
 "nbformat_minor": 2
}
