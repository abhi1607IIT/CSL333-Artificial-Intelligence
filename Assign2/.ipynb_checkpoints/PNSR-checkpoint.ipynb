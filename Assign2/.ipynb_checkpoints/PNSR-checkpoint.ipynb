{
 "cells": [
  {
   "cell_type": "code",
   "execution_count": null,
   "metadata": {},
   "outputs": [
    {
     "name": "stdout",
     "output_type": "stream",
     "text": [
      "256\n",
      "256\n",
      "570.2619379699344\n",
      "20.570059752222498\n"
     ]
    }
   ],
   "source": [
    "import cv2\n",
    "import matplotlib.pyplot as plt\n",
    "import numpy as np\n",
    "from numpy.linalg import inv\n",
    "import math\n",
    "\n",
    "img = cv2.imread(\"standard_test_images/woman_darkhair.tif\", 0) #since the image is grayscale, we need only one channel and the value '0' indicates just that\n",
    "img = np.array(img)/255\n",
    "# print(img.shape[0])\n",
    "SmallImg = [0] * 256\n",
    "for i in range(256):\n",
    "    SmallImg[i] = [0] * 256\n",
    "print(len(SmallImg))\n",
    "print(len(SmallImg[0]))\n",
    "\n",
    "NoofWindow=0\n",
    "FinalImg = [0] * 512\n",
    "for i in range(512):\n",
    "    FinalImg[i] = [0] * 512\n",
    "for i in range (0,512,2):\n",
    "    for j in range (0,512,2):\n",
    "        FinalImg[i][j]=img[i][j]\n",
    "        SmallImg[i//2][j//2] = img[i][j]\n",
    "SmallImg = np.array(SmallImg)\n",
    "\n",
    "\n",
    "for i in range (0,256,16):\n",
    "    previousaplpha = []\n",
    "    for j in range (0,256,16):\n",
    "        window = [0]*16\n",
    "        for k in range (16):\n",
    "            window[k]=[0]*16\n",
    "        for p in range (i,i+16):\n",
    "            for q in range (j,j+16):\n",
    "                window[p%16][q%16]=SmallImg[p][q]\n",
    "\n",
    "        X=[]\n",
    "        Y=[]\n",
    "        for p in range (0,14):\n",
    "            for q in range (0,14):\n",
    "                Y.append([window[p+1][q+1]])\n",
    "                X.append([window[p][q],window[p][q+2],window[p+2][q],window[p+2][q+2]])\n",
    "        T_X = np.transpose(X)\n",
    "        if np.linalg.det(np.matmul(T_X, X))==0:\n",
    "            alpha = previousaplpha\n",
    "        else:\n",
    "            alpha = np.array(np.matmul(inv(np.matrix(np.matmul(T_X, X))),np.matmul(T_X,Y)))\n",
    "#             alpha = np.array(np.matmul(np.matmul(inv(np.matrix(np.matmul(T_X, X))),T_X),Y))\n",
    "            previousaplpha = alpha\n",
    "#         print(alpha)\n",
    "        for p in range(2*i +1,2*i +32,2):\n",
    "            for q in range (2*j +1,2*j +32,2):\n",
    "                if p<511 and q<511:\n",
    "                    FinalImg[p][q] = alpha[0][0]*FinalImg[p-1][q-1] + alpha[1][0]*FinalImg[p-1][q+1] + alpha[2][0]*FinalImg[p+1][q-1] + alpha[3][0]*FinalImg[p+1][q+1]\n",
    "        \n",
    "        for p in range(2*i+1,2*i +32):\n",
    "            for q in range (2*j +1,2*j +32):\n",
    "                if (p+q)%2 != 0 and p<511 and q<511:\n",
    "                    FinalImg[p][q]=alpha[0][0]*FinalImg[p-1][q] + alpha[1][0]*FinalImg[p][q+1] + alpha[2][0]*FinalImg[p+1][q] + alpha[3][0]*FinalImg[p][q-1]\n",
    "        \n",
    "        for p in range (2*i +1,2*i +32,2):\n",
    "            if p<511:\n",
    "                FinalImg[p][0]=(FinalImg[p-1][0]+FinalImg[p+1][0])/2\n",
    "            \n",
    "        for q in range (2*j +1,2*j +32,2):\n",
    "            if q<511:\n",
    "                FinalImg[0][q]=(FinalImg[0][q-1]+FinalImg[0][q+1])/2\n",
    "# print(FinalImg[1])\n",
    "# print(img[1])\n",
    "MSE = 0\n",
    "for i in range (0,512):\n",
    "    for j in range (0,512):\n",
    "        MSE = MSE + 255*255*((img[i][j] - FinalImg[i][j])*(img[i][j] - FinalImg[i][j]))\n",
    "MSE = ((MSE)/(512*512))\n",
    "print(MSE)\n",
    "PNSR = 10*math.log10(((255*255)/(MSE)))\n",
    "print(PNSR)\n",
    "# print(FinalImg)             \n",
    "FinalImg =np.array(FinalImg)\n",
    "cv2.imshow('image',FinalImg)\n",
    "cv2.waitKey(0)\n",
    "cv2.destroyAllWindows()\n",
    "# f = plt.figure()\n",
    "# f.add_subplot(1,2, 1)\n",
    "# plt.imshow(SmallImg) \n",
    "# f.add_subplot(1,2, 2)\n",
    "# plt.imshow(FinalImg)\n",
    "# plt.show(block=True)\n",
    "\n"
   ]
  },
  {
   "cell_type": "code",
   "execution_count": 41,
   "metadata": {},
   "outputs": [
    {
     "name": "stdout",
     "output_type": "stream",
     "text": [
      "[[114, 160, 60, 27], [74, 97, 73, 14], [119, 157, 112, 23]]\n"
     ]
    }
   ],
   "source": [
    "# Program to multiply two matrices using list comprehension\n",
    " \n",
    "# take a 3x3 matrix\n",
    "A = [[12, 7, 3],\n",
    "    [4, 5, 6],\n",
    "    [7, 8, 9]]\n",
    " \n",
    "# take a 3x4 matrix\n",
    "B = [[5, 8, 1, 2],\n",
    "    [6, 7, 3, 0],\n",
    "    [4, 5, 9, 1]]\n",
    " \n",
    "# result will be 3x4\n",
    "result = [[sum(a * b for a, b in zip(A_row, B_col)) \n",
    "                        for B_col in zip(*B)]\n",
    "                                for A_row in A]\n",
    "print(result)\n"
   ]
  },
  {
   "cell_type": "code",
   "execution_count": 41,
   "metadata": {},
   "outputs": [
    {
     "name": "stdout",
     "output_type": "stream",
     "text": [
      "[[ 1  4  7 10]\n",
      " [ 2  5  8 11]\n",
      " [ 3  6  9 12]]\n"
     ]
    }
   ],
   "source": [
    "import numpy\n",
    "matrix=[[1,2,3],[4,5,6],[7,8,9],[10,11,12]]\n",
    "t_matrix = numpy.transpose(matrix)\n",
    "print(t_matrix)"
   ]
  },
  {
   "cell_type": "code",
   "execution_count": 54,
   "metadata": {},
   "outputs": [
    {
     "name": "stdout",
     "output_type": "stream",
     "text": [
      "[[202 101 167]\n",
      " [101  77 122]\n",
      " [167 122 194]]\n",
      "[[   6.           86.66666667  -59.66666667]\n",
      " [  86.66666667 1255.44444445 -864.11111111]\n",
      " [ -59.66666667 -864.11111111  594.77777778]]\n"
     ]
    }
   ],
   "source": [
    "from numpy.linalg import inv\n",
    "\n",
    "A = [[12, 7, 3],\n",
    "    [4, 5, 6],\n",
    "    [7, 8, 9]]\n",
    "A = np.array(A)\n",
    "B = numpy.transpose(A)\n",
    "# result = [[0, 0, 0],\n",
    "#         [0, 0, 0],\n",
    "#         [0, 0, 0]]\n",
    "# for i in range(len(A)):\n",
    " \n",
    "#     # iterating by coloum by B \n",
    "#     for j in range(len(B[0])):\n",
    " \n",
    "#         # iterating by rows of B\n",
    "#         for k in range(len(B)):\n",
    "#             result[i][j] += A[i][k] * B[k][j]\n",
    "result = A.dot(B)\n",
    "print(result)\n",
    "resultinv = inv(np.matrix(result))\n",
    "print(resultinv)\n"
   ]
  },
  {
   "cell_type": "code",
   "execution_count": 90,
   "metadata": {},
   "outputs": [
    {
     "name": "stdout",
     "output_type": "stream",
     "text": [
      "256\n",
      "256\n",
      "[1444.57449776 1955.00690518 2954.08467123 3209.68295898]\n"
     ]
    }
   ],
   "source": [
    "import cv2\n",
    "import matplotlib.pyplot as plt\n",
    "import numpy as np\n",
    "img = cv2.imread(\"standard_test_images/lena_gray_512.tif\", 0) #since the image is grayscale, we need only one channel and the value '0' indicates just that\n",
    "\n",
    "SmallImg = [0] * 256\n",
    "for i in range(256):\n",
    "    SmallImg[i] = [0] * 256\n",
    "print(len(SmallImg))\n",
    "print(len(SmallImg[0]))\n",
    "for i in range (0,img.shape[0]):\n",
    "    if(i%2 == 0):\n",
    "        for j in range (0,img.shape[1]):\n",
    "            if(j%2 == 0):\n",
    "                SmallImg[i//2][(j//2)]=img[i][j]\n",
    "# cv2.imshow('image',img)\n",
    "# cv2.waitKey(0)\n",
    "# cv2.destroyAllWindows()\n",
    "# plt.imshow(img)\n",
    "# plt.imshow(SmallImg)\n",
    "# plt.show()\n",
    "# f = plt.figure()\n",
    "# f.add_subplot(1,2, 1)\n",
    "# plt.imshow(img)\n",
    "# f.add_subplot(1,2, 2)\n",
    "# plt.imshow(SmallImg)\n",
    "# plt.show(block=True)\n",
    "# print(img)\n",
    "# print(SmallImg)\n",
    "\n",
    "# CALCLATING DUMY ALPHA\n",
    "SmallImg = np.array(SmallImg)\n",
    "Z = SmallImg[0:16,0:16]\n",
    "X= []\n",
    "Y= []\n",
    "for i in range (1,15,2):\n",
    "    for j in range (1,15,2):\n",
    "        X.append([Z[i-1][j-1],Z[i-1][j+1],Z[i+1][j-1],Z[i+1][j+1]])\n",
    "        Y.append(Z[i][j])\n",
    "# print(X)\n",
    "t_X = np.transpose(X)\n",
    "prod = t_X.dot(X)\n",
    "# print(prod)\n",
    "# print(np.linalg.det(prod))\n",
    "prodinv = inv(prod)\n",
    "factor = prodinv.dot(t_X)\n",
    "ans = factor.dot(Y)\n",
    "# plt.imshow(ans)\n",
    "print(ans)"
   ]
  },
  {
   "cell_type": "code",
   "execution_count": 74,
   "metadata": {},
   "outputs": [
    {
     "name": "stdout",
     "output_type": "stream",
     "text": [
      "[[1], [2]]\n"
     ]
    }
   ],
   "source": [
    "x= []\n",
    "x.append([1])\n",
    "x.append([2])\n",
    "print(x)"
   ]
  },
  {
   "cell_type": "code",
   "execution_count": null,
   "metadata": {},
   "outputs": [],
   "source": []
  }
 ],
 "metadata": {
  "kernelspec": {
   "display_name": "Python 3",
   "language": "python",
   "name": "python3"
  },
  "language_info": {
   "codemirror_mode": {
    "name": "ipython",
    "version": 3
   },
   "file_extension": ".py",
   "mimetype": "text/x-python",
   "name": "python",
   "nbconvert_exporter": "python",
   "pygments_lexer": "ipython3",
   "version": "3.6.5"
  }
 },
 "nbformat": 4,
 "nbformat_minor": 2
}
